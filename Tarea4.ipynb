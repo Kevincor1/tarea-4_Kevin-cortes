{
 "cells": [
  {
   "cell_type": "code",
   "execution_count": 9,
   "metadata": {},
   "outputs": [],
   "source": [
    "import numpy as np\n",
    "import matplotlib.pyplot as plt\n",
    "import pandas as pd"
   ]
  },
  {
   "cell_type": "code",
   "execution_count": 2,
   "metadata": {},
   "outputs": [],
   "source": [
    "data=pd.read_csv(\"exoplanets.csv\",low_memory=False)\n",
    "T=pd.DataFrame([data[\"NAME\"],data[\"TEFF\"],data[\"MASS\"],data[\"A\"],data[\"DENSITY\"],data[\"R\"],data[\"STAR\"],data[\"MSTAR\"],data[\"RSTAR\"],data[\"BINARY\"]])\n",
    "DF=pd.DataFrame.transpose(T)"
   ]
  },
  {
   "cell_type": "code",
   "execution_count": 3,
   "metadata": {},
   "outputs": [],
   "source": [
    "DF=DF.dropna(subset=[\"BINARY\"])\n",
    "DF=DF.reset_index()      \n",
    "del DF[\"index\"]\n",
    "for i in np.arange(len(DF[\"BINARY\"])):\n",
    "    if DF['BINARY'][i]==1:\n",
    "        DF=DF.drop(index=i)\n",
    "DF=DF.reset_index()      \n",
    "del DF[\"index\"]\n",
    "\n",
    "M_JT=317.816  #Relacion de masa: MasaJupyter/masaTierra\n",
    "R_J=71492 # radio de Jupyter en km \n",
    "R_T=6371 # radio de la tierra en km\n",
    "R_JT=R_J/R_T\n",
    "DF[\"MASSE\"]=M_JT*DF[\"MASS\"]\n",
    "DF[\"RE\"]=R_JT*DF[\"R\"]"
   ]
  },
  {
   "cell_type": "code",
   "execution_count": 4,
   "metadata": {},
   "outputs": [],
   "source": [
    "# calculo de la luminosidad del sol y luminusidad de las estrellas en unidades solares.\n",
    "T_s=5780 #temperatura efectiva del sol en Kelvin\n",
    "R_sol=6.957*10**(8) # radio del sol en metros\n",
    "sigma=5.6703*10**(-8) #constante de Stefan-Boltzman en  J/K\n",
    "L_sol=4*np.pi*(R_sol)**2 * sigma*T_s**4  #luminosidad del sol en Vatios (W), tomaremos esto como referencia para las demas estrellas\n",
    "DF[\"LUM\"]=(4*np.pi*(DF[\"RSTAR\"]*R_sol)**2 *sigma*DF[\"TEFF\"]**4)/L_sol #Luminusidad en unidades solares"
   ]
  },
  {
   "cell_type": "code",
   "execution_count": 5,
   "metadata": {},
   "outputs": [],
   "source": [
    "r_is=0.72\n",
    "r_os=1.77\n",
    "a_i= 2.7619*10**(-5.)\n",
    "b_i=3.8095*10**(-9.)\n",
    "a_o=1.3786*10**(-4)\n",
    "b_o=1.4286*10**(-9.)\n",
    "\n",
    "DF[\"r_i\"] = ( r_is-a_i*(DF[\"TEFF\"]-T_s)-b_i*(DF[\"TEFF\"]-T_s)**2 )*(DF[\"LUM\"])**(0.5)\n",
    "DF[\"r_o\"] = ( r_os-a_o*(DF[\"TEFF\"]-T_s)-b_o*(DF[\"TEFF\"]-T_s)**2 )*(DF[\"LUM\"])**(0.5)\n",
    "\n",
    "DF=DF.dropna(subset=[\"r_i\"])\n",
    "DF=DF.reset_index()      \n",
    "del DF[\"index\"]"
   ]
  },
  {
   "cell_type": "code",
   "execution_count": 6,
   "metadata": {},
   "outputs": [],
   "source": [
    "# Filtro Densidad\n",
    "DF=DF.dropna(subset=[\"DENSITY\"])\n",
    "DF=DF.reset_index()      \n",
    "del DF[\"index\"]\n",
    "for i in np.arange(len(DF[\"DENSITY\"])):\n",
    "    if DF['DENSITY'][i] <= 4 or  DF['DENSITY'][i] >= 40:\n",
    "        DF=DF.drop(index=i)\n",
    "DF=DF.reset_index()\n",
    "del DF[\"index\"]\n",
    "DF[\"HZD\"]=(2.*DF[\"A\"]-DF[\"r_o\"]-DF[\"r_i\"])/(DF[\"r_o\"]-DF[\"r_i\"])"
   ]
  },
  {
   "cell_type": "code",
   "execution_count": 7,
   "metadata": {},
   "outputs": [
    {
     "data": {
      "text/html": [
       "<div>\n",
       "<style scoped>\n",
       "    .dataframe tbody tr th:only-of-type {\n",
       "        vertical-align: middle;\n",
       "    }\n",
       "\n",
       "    .dataframe tbody tr th {\n",
       "        vertical-align: top;\n",
       "    }\n",
       "\n",
       "    .dataframe thead th {\n",
       "        text-align: right;\n",
       "    }\n",
       "</style>\n",
       "<table border=\"1\" class=\"dataframe\">\n",
       "  <thead>\n",
       "    <tr style=\"text-align: right;\">\n",
       "      <th></th>\n",
       "      <th>NAME</th>\n",
       "      <th>TEFF</th>\n",
       "      <th>MASS</th>\n",
       "      <th>A</th>\n",
       "      <th>DENSITY</th>\n",
       "      <th>R</th>\n",
       "      <th>STAR</th>\n",
       "      <th>MSTAR</th>\n",
       "      <th>RSTAR</th>\n",
       "      <th>BINARY</th>\n",
       "      <th>MASSE</th>\n",
       "      <th>RE</th>\n",
       "      <th>LUM</th>\n",
       "      <th>r_i</th>\n",
       "      <th>r_o</th>\n",
       "      <th>HZD</th>\n",
       "    </tr>\n",
       "  </thead>\n",
       "  <tbody>\n",
       "    <tr>\n",
       "      <th>0</th>\n",
       "      <td>K2-18 b</td>\n",
       "      <td>3457</td>\n",
       "      <td>0.025337</td>\n",
       "      <td>0.142931</td>\n",
       "      <td>7.87</td>\n",
       "      <td>0.216574</td>\n",
       "      <td>K2-18</td>\n",
       "      <td>0.359</td>\n",
       "      <td>0.411</td>\n",
       "      <td>0</td>\n",
       "      <td>8.0525</td>\n",
       "      <td>2.43028</td>\n",
       "      <td>0.0216157</td>\n",
       "      <td>0.112267</td>\n",
       "      <td>0.306181</td>\n",
       "      <td>-0.683735</td>\n",
       "    </tr>\n",
       "    <tr>\n",
       "      <th>1</th>\n",
       "      <td>Kepler-22 b</td>\n",
       "      <td>5518</td>\n",
       "      <td>0.0183345</td>\n",
       "      <td>0.848513</td>\n",
       "      <td>12.8929</td>\n",
       "      <td>0.2125</td>\n",
       "      <td>Kepler-22</td>\n",
       "      <td>0.97</td>\n",
       "      <td>0.979</td>\n",
       "      <td>0</td>\n",
       "      <td>5.827</td>\n",
       "      <td>2.38456</td>\n",
       "      <td>0.796124</td>\n",
       "      <td>0.648649</td>\n",
       "      <td>1.61144</td>\n",
       "      <td>-0.584822</td>\n",
       "    </tr>\n",
       "    <tr>\n",
       "      <th>2</th>\n",
       "      <td>LHS 1140 b</td>\n",
       "      <td>3131</td>\n",
       "      <td>0.0212289</td>\n",
       "      <td>0.0874937</td>\n",
       "      <td>12.5</td>\n",
       "      <td>0.131011</td>\n",
       "      <td>LHS 1140</td>\n",
       "      <td>0.146</td>\n",
       "      <td>0.186</td>\n",
       "      <td>0</td>\n",
       "      <td>6.74688</td>\n",
       "      <td>1.47014</td>\n",
       "      <td>0.00297884</td>\n",
       "      <td>0.0418308</td>\n",
       "      <td>0.115989</td>\n",
       "      <td>0.231502</td>\n",
       "    </tr>\n",
       "  </tbody>\n",
       "</table>\n",
       "</div>"
      ],
      "text/plain": [
       "          NAME  TEFF       MASS          A  DENSITY         R       STAR  \\\n",
       "0      K2-18 b  3457   0.025337   0.142931     7.87  0.216574      K2-18   \n",
       "1  Kepler-22 b  5518  0.0183345   0.848513  12.8929    0.2125  Kepler-22   \n",
       "2   LHS 1140 b  3131  0.0212289  0.0874937     12.5  0.131011   LHS 1140   \n",
       "\n",
       "   MSTAR  RSTAR BINARY    MASSE       RE         LUM        r_i       r_o  \\\n",
       "0  0.359  0.411      0   8.0525  2.43028   0.0216157   0.112267  0.306181   \n",
       "1   0.97  0.979      0    5.827  2.38456    0.796124   0.648649   1.61144   \n",
       "2  0.146  0.186      0  6.74688  1.47014  0.00297884  0.0418308  0.115989   \n",
       "\n",
       "        HZD  \n",
       "0 -0.683735  \n",
       "1 -0.584822  \n",
       "2  0.231502  "
      ]
     },
     "execution_count": 7,
     "metadata": {},
     "output_type": "execute_result"
    }
   ],
   "source": [
    "#Filtro zona de habitaabilidad\n",
    "for i in np.arange(len(DF[\"HZD\"])):\n",
    "    if DF['HZD'][i]<=-1 or  DF['HZD'][i]>=1:\n",
    "        DF=DF.drop(index=i)\n",
    "DF=DF.reset_index()\n",
    "del DF[\"index\"]\n",
    "DF"
   ]
  },
  {
   "cell_type": "code",
   "execution_count": 69,
   "metadata": {},
   "outputs": [
    {
     "data": {
      "image/png": "[encoded data removed]",
      "text/plain": [
       "<Figure size 432x288 with 1 Axes>"
      ]
     },
     "metadata": {
      "needs_background": "light"
     },
     "output_type": "display_data"
    },
    {
     "data": {
      "image/png": "[encoded data removed]",
      "text/plain": [
       "<Figure size 432x288 with 1 Axes>"
      ]
     },
     "metadata": {
      "needs_background": "light"
     },
     "output_type": "display_data"
    },
    {
     "data": {
      "image/png": "[encoded data removed]",
      "text/plain": [
       "<Figure size 432x288 with 1 Axes>"
      ]
     },
     "metadata": {
      "needs_background": "light"
     },
     "output_type": "display_data"
    },
    {
     "data": {
      "image/png": "[encoded data removed]",
      "text/plain": [
       "<Figure size 432x288 with 1 Axes>"
      ]
     },
     "metadata": {
      "needs_background": "light"
     },
     "output_type": "display_data"
    }
   ],
   "source": [
    "#Graficas\n",
    "\n",
    "plt.plot(DF[\"A\"],DF[\"MSTAR\"],\"o\",color=\"g\")\n",
    "plt.title(\"Masa de la estrella vs semieje mayor del planeta\")\n",
    "plt.xlim(0,1.1)\n",
    "plt.ylim(0,1.1)\n",
    "plt.xlabel(\"Distancia del planeta a su estrella (AU)\") #semieje mayor\n",
    "plt.ylabel(\"Masa de la estrella (masas solares)\")\n",
    "plt.grid()\n",
    "plt.show()\n",
    "\n",
    "plt.figure(2)\n",
    "plt.plot(DF[\"MSTAR\"],DF[\"DENSITY\"],\"o\",color=\"m\")\n",
    "plt.title(\"Densidad del planeta vs Masa de la estrella\")\n",
    "plt.xlim(0,1.1)\n",
    "plt.ylim(0,15)\n",
    "plt.ylabel(\"Densidad (g/$cm^{3}$)\") \n",
    "plt.xlabel(\"Masa de la estrella (masas solares)\")\n",
    "plt.grid()\n",
    "plt.show()\n",
    "\n",
    "plt.figure(3)\n",
    "plt.bar(DF[\"NAME\"],DF[\"A\"])\n",
    "plt.title(\"Distribucion orbital de los planetas\")\n",
    "plt.xlabel(\"Planeta\")\n",
    "plt.ylabel(\"Distancia del planeta a su estrella (AU)\")\n",
    "plt.show()\n",
    "\n",
    "plt.figure(4)\n",
    "plt.plot(DF[\"TEFF\"],DF[\"A\"],\"o\",color=\"r\")\n",
    "plt.title(\"Distancia a la estrella vs Temperatura efectiva de la estrella\")\n",
    "plt.xlabel(\"Temperatura Efectiva (K)\")\n",
    "plt.ylabel(\"Distancia del planeta a su estrella (AU)\")\n",
    "plt.grid()\n",
    "plt.xlim(2800,6000)\n",
    "plt.ylim(0,1.03)\n",
    "plt.show()"
   ]
  }
 ],
 "metadata": {
  "kernelspec": {
   "display_name": "Python 3",
   "language": "python",
   "name": "python3"
  },
  "language_info": {
   "codemirror_mode": {
    "name": "ipython",
    "version": 3
   },
   "file_extension": ".py",
   "mimetype": "text/x-python",
   "name": "python",
   "nbconvert_exporter": "python",
   "pygments_lexer": "ipython3",
   "version": "3.8.3"
  }
 },
 "nbformat": 4,
 "nbformat_minor": 2
}
